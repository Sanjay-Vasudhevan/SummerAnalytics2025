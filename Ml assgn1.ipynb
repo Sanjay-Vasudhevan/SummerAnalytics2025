{
 "cells": [
  {
   "cell_type": "code",
   "execution_count": 17,
   "id": "b9278bd5-8b1b-4908-a4ca-dcec85752541",
   "metadata": {},
   "outputs": [],
   "source": [
    "import pandas as pd"
   ]
  },
  {
   "cell_type": "code",
   "execution_count": 19,
   "id": "f29bb765-aa30-48e6-9d2b-8f8d10d80918",
   "metadata": {},
   "outputs": [],
   "source": [
    "df = pd.read_csv(\"Cars.csv\")"
   ]
  },
  {
   "cell_type": "code",
   "execution_count": 21,
   "id": "a9a17417-283d-4c29-8786-ade8cf62dfa9",
   "metadata": {},
   "outputs": [
    {
     "name": "stdout",
     "output_type": "stream",
     "text": [
      "Q1: Car with the highest horsepower: pontiac grand prix\n"
     ]
    }
   ],
   "source": [
    "max_hp_car = df.loc[df['horsepower'].idxmax(), 'name']\n",
    "print(\"Q1: Car with the highest horsepower:\", max_hp_car)"
   ]
  },
  {
   "cell_type": "code",
   "execution_count": 23,
   "id": "33539627-4910-4c0a-bbb1-e319ff7f67b2",
   "metadata": {},
   "outputs": [
    {
     "name": "stdout",
     "output_type": "stream",
     "text": [
      "Q2: Number of cars with mpg ≥ 35: 36\n"
     ]
    }
   ],
   "source": [
    "mpg_35_or_more = (df['mpg'] >= 35).sum()\n",
    "print(\"Q2: Number of cars with mpg ≥ 35:\", mpg_35_or_more)"
   ]
  },
  {
   "cell_type": "code",
   "execution_count": 25,
   "id": "77150864-0690-47ac-a81d-ccd363891089",
   "metadata": {},
   "outputs": [
    {
     "name": "stdout",
     "output_type": "stream",
     "text": [
      "Q3: Most common origin (hp > 100 and weight < 3000): usa\n"
     ]
    }
   ],
   "source": [
    "filtered = df[(df['horsepower'] > 100) & (df['weight'] < 3000)]\n",
    "most_common_origin = filtered['origin'].value_counts().idxmax()\n",
    "print(\"Q3: Most common origin (hp > 100 and weight < 3000):\", most_common_origin)"
   ]
  },
  {
   "cell_type": "code",
   "execution_count": 27,
   "id": "09dc76e3-7ef1-48fa-a334-5d19d55e1958",
   "metadata": {},
   "outputs": [
    {
     "name": "stdout",
     "output_type": "stream",
     "text": [
      "Q4: Mean acceleration of Japanese cars: 16.17\n"
     ]
    }
   ],
   "source": [
    "mean_acc_japan = round(df[df['origin'] == 'japan']['acceleration'].mean(), 2)\n",
    "print(\"Q4: Mean acceleration of Japanese cars:\", mean_acc_japan)"
   ]
  },
  {
   "cell_type": "code",
   "execution_count": 29,
   "id": "577c37ea-7aaf-4501-bc3d-8b322d09bff7",
   "metadata": {},
   "outputs": [
    {
     "name": "stdout",
     "output_type": "stream",
     "text": [
      "Q5: Year with the highest average mpg: 80\n"
     ]
    }
   ],
   "source": [
    "highest_avg_mpg_year = df.groupby('model_year')['mpg'].mean().idxmax()\n",
    "print(\"Q5: Year with the highest average mpg:\", highest_avg_mpg_year)"
   ]
  },
  {
   "cell_type": "code",
   "execution_count": 31,
   "id": "f2caec3f-9e91-49ca-bb21-38f29b6788a8",
   "metadata": {},
   "outputs": [],
   "source": [
    "name_year_counts = df.groupby('name')['model_year'].nunique()\n"
   ]
  },
  {
   "cell_type": "code",
   "execution_count": 33,
   "id": "a4687e78-479b-475c-b696-af47e6850259",
   "metadata": {},
   "outputs": [],
   "source": [
    "multi_year_models = name_year_counts[name_year_counts > 1].index"
   ]
  },
  {
   "cell_type": "code",
   "execution_count": 35,
   "id": "5b02c64c-3ded-4abf-a4ae-f092555449b9",
   "metadata": {},
   "outputs": [],
   "source": [
    "multi_year_df = df[df['name'].isin(multi_year_models)]"
   ]
  },
  {
   "cell_type": "code",
   "execution_count": 37,
   "id": "3538f2e7-7ba6-4555-8f87-7e0c4c14fcaa",
   "metadata": {},
   "outputs": [],
   "source": [
    "summary = multi_year_df.groupby('name').agg(\n",
    "    std_mpg=('mpg', 'std'),\n",
    "    appearances=('mpg', 'count'),\n",
    "    avg_mpg=('mpg', 'mean')\n",
    ").reset_index()"
   ]
  },
  {
   "cell_type": "code",
   "execution_count": 39,
   "id": "762a69ce-df88-42f5-ab92-e870629369cf",
   "metadata": {},
   "outputs": [],
   "source": [
    "consistent_models = summary[summary['std_mpg'] < 1.0]"
   ]
  },
  {
   "cell_type": "code",
   "execution_count": 41,
   "id": "fd8f2d6c-d28a-4e21-af8d-68c7b301ad3e",
   "metadata": {},
   "outputs": [],
   "source": [
    "consistent_sorted = consistent_models.sort_values(by=['appearances', 'avg_mpg'], ascending=[False, False])"
   ]
  },
  {
   "cell_type": "code",
   "execution_count": 43,
   "id": "fdb104c4-3481-4546-8792-29b8f02dce58",
   "metadata": {},
   "outputs": [
    {
     "name": "stdout",
     "output_type": "stream",
     "text": [
      "Consistent Car Models (std(mpg) < 1.0, multiple years):\n",
      "                         name  appearances    avg_mpg\n",
      "26           ford galaxie 500            3  14.333333\n",
      "41          plymouth fury iii            3  14.333333\n",
      "49        toyota corolla 1200            2  31.500000\n",
      "35                  mazda 626            2  31.450000\n",
      "53          volkswagen rabbit            2  29.250000\n",
      "21               datsun pl510            2  27.000000\n",
      "45                  saab 99le            2  24.500000\n",
      "51             toyota mark ii            2  19.500000\n",
      "22                dodge aspen            2  18.850000\n",
      "10  chevrolet chevelle malibu            2  17.500000\n",
      "4            amc matador (sw)            2  14.500000\n",
      "28      ford gran torino (sw)            2  13.500000\n",
      "29                   ford ltd            2  13.500000\n"
     ]
    }
   ],
   "source": [
    "print(\"Consistent Car Models (std(mpg) < 1.0, multiple years):\")\n",
    "print(consistent_sorted[['name', 'appearances', 'avg_mpg']])"
   ]
  },
  {
   "cell_type": "code",
   "execution_count": null,
   "id": "b51916fb-a542-40cb-b427-6531ec31f346",
   "metadata": {},
   "outputs": [],
   "source": []
  }
 ],
 "metadata": {
  "kernelspec": {
   "display_name": "Python [conda env:base] *",
   "language": "python",
   "name": "conda-base-py"
  },
  "language_info": {
   "codemirror_mode": {
    "name": "ipython",
    "version": 3
   },
   "file_extension": ".py",
   "mimetype": "text/x-python",
   "name": "python",
   "nbconvert_exporter": "python",
   "pygments_lexer": "ipython3",
   "version": "3.12.7"
  }
 },
 "nbformat": 4,
 "nbformat_minor": 5
}
